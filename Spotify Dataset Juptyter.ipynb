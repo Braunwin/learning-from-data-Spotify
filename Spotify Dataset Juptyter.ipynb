{
 "cells": [
  {
   "cell_type": "code",
   "execution_count": 37,
   "id": "acacbc25",
   "metadata": {},
   "outputs": [],
   "source": [
    "import numpy as np\n",
    "import pandas as pd\n",
    "\n",
    "# Read Spotify  dataset \n",
    "df = pd.read_csv('Spotify.csv')"
   ]
  },
  {
   "cell_type": "code",
   "execution_count": 38,
   "id": "5619b5d3",
   "metadata": {},
   "outputs": [
    {
     "data": {
      "text/html": [
       "<div>\n",
       "<style scoped>\n",
       "    .dataframe tbody tr th:only-of-type {\n",
       "        vertical-align: middle;\n",
       "    }\n",
       "\n",
       "    .dataframe tbody tr th {\n",
       "        vertical-align: top;\n",
       "    }\n",
       "\n",
       "    .dataframe thead th {\n",
       "        text-align: right;\n",
       "    }\n",
       "</style>\n",
       "<table border=\"1\" class=\"dataframe\">\n",
       "  <thead>\n",
       "    <tr style=\"text-align: right;\">\n",
       "      <th></th>\n",
       "      <th>Track Number</th>\n",
       "      <th>Popularity</th>\n",
       "      <th>Danceability</th>\n",
       "    </tr>\n",
       "  </thead>\n",
       "  <tbody>\n",
       "    <tr>\n",
       "      <th>0</th>\n",
       "      <td>6</td>\n",
       "      <td>50</td>\n",
       "      <td>0.614</td>\n",
       "    </tr>\n",
       "    <tr>\n",
       "      <th>1</th>\n",
       "      <td>1</td>\n",
       "      <td>64</td>\n",
       "      <td>0.601</td>\n",
       "    </tr>\n",
       "    <tr>\n",
       "      <th>2</th>\n",
       "      <td>10</td>\n",
       "      <td>0</td>\n",
       "      <td>0.450</td>\n",
       "    </tr>\n",
       "    <tr>\n",
       "      <th>3</th>\n",
       "      <td>2</td>\n",
       "      <td>52</td>\n",
       "      <td>0.556</td>\n",
       "    </tr>\n",
       "    <tr>\n",
       "      <th>4</th>\n",
       "      <td>5</td>\n",
       "      <td>80</td>\n",
       "      <td>0.802</td>\n",
       "    </tr>\n",
       "    <tr>\n",
       "      <th>...</th>\n",
       "      <td>...</td>\n",
       "      <td>...</td>\n",
       "      <td>...</td>\n",
       "    </tr>\n",
       "    <tr>\n",
       "      <th>9992</th>\n",
       "      <td>11</td>\n",
       "      <td>59</td>\n",
       "      <td>0.566</td>\n",
       "    </tr>\n",
       "    <tr>\n",
       "      <th>9993</th>\n",
       "      <td>7</td>\n",
       "      <td>68</td>\n",
       "      <td>0.747</td>\n",
       "    </tr>\n",
       "    <tr>\n",
       "      <th>9994</th>\n",
       "      <td>2</td>\n",
       "      <td>61</td>\n",
       "      <td>0.676</td>\n",
       "    </tr>\n",
       "    <tr>\n",
       "      <th>9995</th>\n",
       "      <td>6</td>\n",
       "      <td>61</td>\n",
       "      <td>0.664</td>\n",
       "    </tr>\n",
       "    <tr>\n",
       "      <th>9996</th>\n",
       "      <td>5</td>\n",
       "      <td>0</td>\n",
       "      <td>0.858</td>\n",
       "    </tr>\n",
       "  </tbody>\n",
       "</table>\n",
       "<p>9997 rows × 3 columns</p>\n",
       "</div>"
      ],
      "text/plain": [
       "      Track Number  Popularity  Danceability\n",
       "0                6          50         0.614\n",
       "1                1          64         0.601\n",
       "2               10           0         0.450\n",
       "3                2          52         0.556\n",
       "4                5          80         0.802\n",
       "...            ...         ...           ...\n",
       "9992            11          59         0.566\n",
       "9993             7          68         0.747\n",
       "9994             2          61         0.676\n",
       "9995             6          61         0.664\n",
       "9996             5           0         0.858\n",
       "\n",
       "[9997 rows x 3 columns]"
      ]
     },
     "execution_count": 38,
     "metadata": {},
     "output_type": "execute_result"
    }
   ],
   "source": [
    "#Display Spotify Dataset \n",
    "df"
   ]
  },
  {
   "cell_type": "code",
   "execution_count": 39,
   "id": "91fbc86e",
   "metadata": {},
   "outputs": [
    {
     "name": "stdout",
     "output_type": "stream",
     "text": [
      "Sample Mean :\n",
      "Track Number     4.958087\n",
      "Popularity      37.632190\n",
      "Danceability     0.607925\n",
      "dtype: float64\n"
     ]
    }
   ],
   "source": [
    "#Calculate and display the  Mean of of each Column \n",
    "#1 calclaute the sum of each column\n",
    "column_sums = df.sum()\n",
    "#2 calclulate the cpunt of each coloumn\n",
    "column_counts = df.count()\n",
    "\n",
    "#The sum/Coulmn will equals to the mean \n",
    "column_Mean = column_sums / column_counts\n",
    "\n",
    "#Dsiplay the mean of each column\n",
    "print(\"Sample Mean :\")\n",
    "print(column_Mean)"
   ]
  },
  {
   "cell_type": "code",
   "execution_count": 40,
   "id": "24f02cc4",
   "metadata": {},
   "outputs": [
    {
     "name": "stdout",
     "output_type": "stream",
     "text": [
      "Standard error :\n",
      "Track Number    0.055037\n",
      "Popularity      0.294634\n",
      "Danceability    0.001459\n",
      "dtype: float64\n"
     ]
    }
   ],
   "source": [
    "#Calulate and diplsya the Stanard error of each column\n",
    "column_standard_errors = df.sem()\n",
    "\n",
    "#Display the standard error of each column \n",
    "print(\"Standard error :\")\n",
    "print(column_standard_errors)"
   ]
  },
  {
   "cell_type": "code",
   "execution_count": null,
   "id": "8bb7650f",
   "metadata": {},
   "outputs": [],
   "source": []
  }
 ],
 "metadata": {
  "kernelspec": {
   "display_name": "Python 3 (ipykernel)",
   "language": "python",
   "name": "python3"
  },
  "language_info": {
   "codemirror_mode": {
    "name": "ipython",
    "version": 3
   },
   "file_extension": ".py",
   "mimetype": "text/x-python",
   "name": "python",
   "nbconvert_exporter": "python",
   "pygments_lexer": "ipython3",
   "version": "3.11.5"
  },
  "widgets": {
   "application/vnd.jupyter.widget-state+json": {
    "state": {},
    "version_major": 2,
    "version_minor": 0
   }
  }
 },
 "nbformat": 4,
 "nbformat_minor": 5
}
